{
 "cells": [
  {
   "cell_type": "markdown",
   "metadata": {},
   "source": [
    "# Data Analysis"
   ]
  },
  {
   "cell_type": "code",
   "execution_count": 1,
   "metadata": {},
   "outputs": [],
   "source": [
    "import pandas as pd\n",
    "import numpy as np"
   ]
  },
  {
   "cell_type": "markdown",
   "metadata": {},
   "source": [
    "# Data Preparation"
   ]
  },
  {
   "cell_type": "code",
   "execution_count": 3,
   "metadata": {},
   "outputs": [],
   "source": [
    "# Import Data\n",
    "data = pd.read_csv(\"../Thesis Data/Q1_clean.csv\")"
   ]
  },
  {
   "cell_type": "code",
   "execution_count": 20,
   "metadata": {},
   "outputs": [
    {
     "name": "stdout",
     "output_type": "stream",
     "text": [
      "479862 total loans, 0.0129% defaulted\n"
     ]
    }
   ],
   "source": [
    "print('{} total loans, {:.4%} defaulted'.format(data.shape[0], np.mean(data['Default'])))"
   ]
  },
  {
   "cell_type": "code",
   "execution_count": 9,
   "metadata": {},
   "outputs": [],
   "source": [
    "# Reset index to Loan ID\n",
    "data.drop('Unnamed: 0', axis=1, inplace=True)\n",
    "data.set_index('LoanID', inplace=True)"
   ]
  },
  {
   "cell_type": "code",
   "execution_count": 23,
   "metadata": {},
   "outputs": [
    {
     "name": "stdout",
     "output_type": "stream",
     "text": [
      "['Channel' 'SellerName' 'OrInterestRate' 'OrUPB' 'OrLoanTerm' 'OrDate'\n",
      " 'FirstPayDate' 'OrLTV' 'OrCLTV' 'NumBorrow' 'OrDTIRat' 'OrCreditScore'\n",
      " 'FTHomeBuyer' 'LoanPurpose' 'PropertyType' 'NumUnits' 'OccStatus'\n",
      " 'PropertyState' 'Zip' 'MortInsPerc' 'ProductType' 'CoCreditScore'\n",
      " 'MortInsType' 'RelMortInd' 'Default' 'CoCreditor']\n"
     ]
    }
   ],
   "source": [
    "print(data.columns.values)"
   ]
  },
  {
   "cell_type": "markdown",
   "metadata": {},
   "source": [
    "Convert the following:\n",
    "- FTHomeBuyer (Y and N)\n",
    "- LoanPurpose\n",
    "- Split date month and year\n",
    "\n"
   ]
  },
  {
   "cell_type": "markdown",
   "metadata": {},
   "source": [
    "# SMOTE"
   ]
  },
  {
   "cell_type": "code",
   "execution_count": 35,
   "metadata": {},
   "outputs": [
    {
     "data": {
      "text/plain": [
       "LoanID\n",
       "100002130634    1\n",
       "100003080256    2\n",
       "100003722619    1\n",
       "100004837443    1\n",
       "100007361597    1\n",
       "Name: NumUnits, dtype: int64"
      ]
     },
     "execution_count": 35,
     "metadata": {},
     "output_type": "execute_result"
    }
   ],
   "source": [
    "data.OccStatus.head()"
   ]
  },
  {
   "cell_type": "code",
   "execution_count": null,
   "metadata": {},
   "outputs": [],
   "source": []
  }
 ],
 "metadata": {
  "kernelspec": {
   "display_name": "Python 3",
   "language": "python",
   "name": "python3"
  },
  "language_info": {
   "codemirror_mode": {
    "name": "ipython",
    "version": 3
   },
   "file_extension": ".py",
   "mimetype": "text/x-python",
   "name": "python",
   "nbconvert_exporter": "python",
   "pygments_lexer": "ipython3",
   "version": "3.7.3"
  }
 },
 "nbformat": 4,
 "nbformat_minor": 2
}
